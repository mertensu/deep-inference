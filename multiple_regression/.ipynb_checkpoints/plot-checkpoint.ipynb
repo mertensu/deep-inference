{
 "cells": [
  {
   "cell_type": "markdown",
   "metadata": {},
   "source": [
    "### Plot results"
   ]
  },
  {
   "cell_type": "code",
   "execution_count": 1,
   "metadata": {},
   "outputs": [],
   "source": [
    "import matplotlib.pyplot as plt\n",
    "import numpy as np\n",
    "import os"
   ]
  },
  {
   "cell_type": "code",
   "execution_count": 1,
   "metadata": {},
   "outputs": [],
   "source": [
    "def plot_analytic_vs_est(true, pred, names ,log=True, plot_abline=True,show=True,filename='figure.png'):\n",
    "    \"\"\"Create a 3x2 plot as in paper.\"\"\"\n",
    "    \n",
    "    def abline(slope, intercept, ax):\n",
    "        x = np.array(ax.get_xlim())\n",
    "        y = intercept + slope * x\n",
    "        return x, y \n",
    "    \n",
    "    font = {'fontname':'Arial', 'fontsize': 16}\n",
    "    textfont = {'fontname':'Arial', 'fontsize': 11}\n",
    "    axisfont = {'fontname':'Arial', 'fontsize': 12}\n",
    "    \n",
    "    nmaes = [] # Normalized Mean absolute error\n",
    "\n",
    "    f, axarr = plt.subplots(2, true.shape[1]//2, figsize=(15, 10))\n",
    "    \n",
    "    # EXPECTATION OF BETA 1\n",
    "    for i, ax in enumerate(axarr.flat):\n",
    "        \n",
    "        ax.plot(true[:,i], pred[:,i],marker='o', linewidth=0,alpha=0.2,color='black')\n",
    "        cor = np.round(np.corrcoef(true[:,i],pred[:,i])[0,1],2)\n",
    "        mae = np.round(np.mean(abs((true[:,i]-pred[:,i])/true[:,i])),2)\n",
    "        rmse = np.round(np.sqrt(np.mean((true[:,i]-pred[:,i])**2)),3)\n",
    "        nmaes.append(mae)\n",
    "        ax.text(0.2,0.9,'RMSE: ' + str(rmse),ha='center', va='center', transform=ax.transAxes,**textfont)\n",
    "        \n",
    "        if log and i >= true.shape[1]//2:\n",
    "            ax.set_xscale('log')\n",
    "            ax.set_yscale('log')\n",
    "        \n",
    "        if plot_abline:\n",
    "            ax.plot(*abline(1, 0, ax),color='black')\n",
    "        else:\n",
    "            ax.plot(*best_line_fit(true[:,i], pred[:,i]))\n",
    "        if i == 0:\n",
    "            ax.set_xlabel('True',**axisfont)\n",
    "            ax.set_ylabel('Estimated',**axisfont)\n",
    "        ax.set_title(names[i],**font)\n",
    "        \n",
    "        ax.yaxis.set_ticks_position('left')\n",
    "        ax.xaxis.set_ticks_position('bottom')\n",
    "        \n",
    "        #ax.spines['right'].set_visible(False)\n",
    "        #ax.spines['top'].set_visible(False)\n",
    "     \n",
    "    f.savefig(os.path.join(PATH,filename))\n",
    "    f.subplots_adjust(hspace=.3)\n",
    "    if show:\n",
    "        plt.show()\n",
    "    return nmaes"
   ]
  }
 ],
 "metadata": {
  "kernelspec": {
   "display_name": "Python 3",
   "language": "python",
   "name": "python3"
  },
  "language_info": {
   "codemirror_mode": {
    "name": "ipython",
    "version": 3
   },
   "file_extension": ".py",
   "mimetype": "text/x-python",
   "name": "python",
   "nbconvert_exporter": "python",
   "pygments_lexer": "ipython3",
   "version": "3.5.2"
  }
 },
 "nbformat": 4,
 "nbformat_minor": 2
}
