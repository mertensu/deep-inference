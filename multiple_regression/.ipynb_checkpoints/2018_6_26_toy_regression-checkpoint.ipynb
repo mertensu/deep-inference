{
 "cells": [
  {
   "cell_type": "markdown",
   "metadata": {},
   "source": [
    "## DeepInference for multiple regression\n",
    "This Notebook replicates the findings for the multiple regression scenario presented in 'Towards end-to-end likelihood-free inference with Convolutional Neural Networks'.\n",
    "\n",
    "Make sure ipynb is installed (pip install ipynb) before you proceed.\n",
    "\n",
    "Since this notebook is meant for illustration pruposes, we only provide a small subset of the data that we actually used for the paper. If you are interested in the full datasets, let us know:\n",
    "\n",
    "ulf.mertens@psychologie.uni-heidelberg.de"
   ]
  },
  {
   "cell_type": "code",
   "execution_count": 1,
   "metadata": {},
   "outputs": [
    {
     "name": "stderr",
     "output_type": "stream",
     "text": [
      "Using TensorFlow backend.\n"
     ]
    }
   ],
   "source": [
    "import pandas as pd\n",
    "import numpy as np\n",
    "import glob\n",
    "import os\n",
    "from keras.models import load_model\n",
    "from keras.callbacks import ModelCheckpoint\n",
    "import time\n",
    "import matplotlib.pyplot as plt\n",
    "\n",
    "from ipynb.fs.full.conv_model import * # the model architecture\n",
    "from ipynb.fs.full.import_data import * # the function to import the data\n",
    "from ipynb.fs.full.loss_function import * # heteroscedastic loss\n",
    "from ipynb.fs.full.plot import * # plotting function\n",
    "\n",
    "%matplotlib inline"
   ]
  },
  {
   "cell_type": "code",
   "execution_count": 2,
   "metadata": {},
   "outputs": [],
   "source": [
    "PATH = '/Users/ulf.mertens/Desktop/multi_gaussian/toy_examples/multiple_regression/'\n",
    "\n",
    "# structure of the data\n",
    "ROWS, COLS = 100, 3\n",
    "\n",
    "# names for the final plot\n",
    "NAMES = [r'$\\mathrm{E}[\\beta_1 | X]$',\n",
    "         r'$\\mathrm{E}[\\beta_2 | X]$',\n",
    "         r'$\\mathrm{E}[\\sigma^2 | X]$',\n",
    "         r'$Var[\\beta_1 | X]$',\n",
    "         r'$Var[\\beta_2 | X]$',\n",
    "         r'$Var[\\sigma^2 | X]$']\n",
    "\n",
    "# train or load existing\n",
    "train = True"
   ]
  },
  {
   "cell_type": "markdown",
   "metadata": {},
   "source": [
    "### Load the data"
   ]
  },
  {
   "cell_type": "code",
   "execution_count": 3,
   "metadata": {},
   "outputs": [],
   "source": [
    "X_train, y_train, X_test, y_test = read_data(os.path.join(PATH,'data'),sep=' ')"
   ]
  },
  {
   "cell_type": "markdown",
   "metadata": {},
   "source": [
    "### Reshape according to the actual structure"
   ]
  },
  {
   "cell_type": "code",
   "execution_count": 4,
   "metadata": {},
   "outputs": [],
   "source": [
    "X_train = X_train.reshape(X_train.shape[0],ROWS,COLS)\n",
    "X_test = X_test.reshape(X_test.shape[0],ROWS,COLS)"
   ]
  },
  {
   "cell_type": "code",
   "execution_count": 5,
   "metadata": {},
   "outputs": [
    {
     "name": "stdout",
     "output_type": "stream",
     "text": [
      "(100000, 100, 3)\n",
      "(100, 100, 3)\n",
      "(100000, 3)\n",
      "(100, 6)\n"
     ]
    }
   ],
   "source": [
    "print(X_train.shape)\n",
    "print(X_test.shape)\n",
    "print(y_train.shape)\n",
    "print(y_test.shape)"
   ]
  },
  {
   "cell_type": "markdown",
   "metadata": {},
   "source": [
    "### Create the model"
   ]
  },
  {
   "cell_type": "code",
   "execution_count": 6,
   "metadata": {},
   "outputs": [],
   "source": [
    "K.clear_session()\n",
    "if train:\n",
    "    filepath=os.path.join(PATH,\"weights-improvement-{epoch:02d}.hdf5\")\n",
    "    checkpointer = ModelCheckpoint(filepath=filepath, verbose=1,save_best_only=True)\n",
    "    callbacks_list = [checkpointer]\n",
    "    model = create_model(n_params=3,channels=3)\n",
    "    model.compile(optimizer='adam', loss=heteroscedastic_loss)"
   ]
  },
  {
   "cell_type": "markdown",
   "metadata": {},
   "source": [
    "### Fit the model"
   ]
  },
  {
   "cell_type": "code",
   "execution_count": 2,
   "metadata": {},
   "outputs": [],
   "source": [
    "model.fit(x=X_train,y=y_train,batch_size=32,epochs=3,verbose=1,\n",
    "          validation_data=(X_test,y_test[:,:3]),\n",
    "          callbacks=callbacks_list)"
   ]
  },
  {
   "cell_type": "markdown",
   "metadata": {},
   "source": [
    "### Save or load model"
   ]
  },
  {
   "cell_type": "code",
   "execution_count": null,
   "metadata": {},
   "outputs": [],
   "source": [
    "if train:\n",
    "    timestr = time.strftime(\"%Y%m%d-%H%M%S\")\n",
    "    model.save(os.path.join(PATH,'regression_3' + timestr + '_.h5'))\n",
    "else:\n",
    "    model_name = sorted(glob.glob(PATH + \"*.h5\"),key=os.path.getctime)[-1]\n",
    "    model = load_model(model_name,custom_objects={'heteroscedastic_loss': heteroscedastic_loss})"
   ]
  },
  {
   "cell_type": "markdown",
   "metadata": {},
   "source": [
    "### Make prediction on test set"
   ]
  },
  {
   "cell_type": "code",
   "execution_count": null,
   "metadata": {},
   "outputs": [],
   "source": [
    "preds = model.predict(X_test)"
   ]
  },
  {
   "cell_type": "markdown",
   "metadata": {},
   "source": [
    "### Plot Results"
   ]
  },
  {
   "cell_type": "code",
   "execution_count": null,
   "metadata": {},
   "outputs": [],
   "source": [
    "nmae = plot_analytic_vs_est(y_test, preds,NAMES,log=True,show=False)"
   ]
  }
 ],
 "metadata": {
  "kernelspec": {
   "display_name": "Python 3",
   "language": "python",
   "name": "python3"
  },
  "language_info": {
   "codemirror_mode": {
    "name": "ipython",
    "version": 3
   },
   "file_extension": ".py",
   "mimetype": "text/x-python",
   "name": "python",
   "nbconvert_exporter": "python",
   "pygments_lexer": "ipython3",
   "version": "3.5.2"
  }
 },
 "nbformat": 4,
 "nbformat_minor": 2
}
