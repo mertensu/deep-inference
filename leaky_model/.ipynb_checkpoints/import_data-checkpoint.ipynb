{
 "cells": [
  {
   "cell_type": "markdown",
   "metadata": {},
   "source": [
    "### Import reference tables"
   ]
  },
  {
   "cell_type": "code",
   "execution_count": 1,
   "metadata": {
    "collapsed": true
   },
   "outputs": [],
   "source": [
    "import pandas as pd\n",
    "import os"
   ]
  },
  {
   "cell_type": "code",
   "execution_count": null,
   "metadata": {
    "collapsed": true
   },
   "outputs": [],
   "source": [
    "def read_data(path,sep):\n",
    "    \"\"\" Import train and test data.\"\"\"\n",
    "    X_train = pd.read_csv(os.path.join(path,'xtrain.csv'),sep=sep,header=None).values\n",
    "    y_train = pd.read_csv(os.path.join(path,'ytrain.csv'),sep=sep,header=None).values\n",
    "    X_test = pd.read_csv(os.path.join(path,'xtest.csv'),sep=sep,header=None).values\n",
    "    y_test = pd.read_csv(os.path.join(path,'ytest.csv'),sep=sep,header=None).values\n",
    "    return X_train, y_train, X_test, y_test"
   ]
  },
  {
   "cell_type": "code",
   "execution_count": 1,
   "metadata": {
    "collapsed": true
   },
   "outputs": [],
   "source": [
    "def validation_split(X_train, y_train, val_size=.95):\n",
    "    \"\"\"train val split.\"\"\"\n",
    "    \n",
    "    val_size = int(val_size * X.shape[0])    \n",
    "    X_train = X_train[:val_size, :]\n",
    "    X_val = X_train[val_size:, :]\n",
    "    y_train = y_train[:val_size, :]\n",
    "    y_val = y_train[val_size:, :]\n",
    "    return X_train, y_train, X_val, y_val"
   ]
  }
 ],
 "metadata": {
  "kernelspec": {
   "display_name": "Python 3",
   "language": "python",
   "name": "python3"
  },
  "language_info": {
   "codemirror_mode": {
    "name": "ipython",
    "version": 3
   },
   "file_extension": ".py",
   "mimetype": "text/x-python",
   "name": "python",
   "nbconvert_exporter": "python",
   "pygments_lexer": "ipython3",
   "version": "3.6.3"
  },
  "toc": {
   "base_numbering": 1,
   "nav_menu": {},
   "number_sections": true,
   "sideBar": true,
   "skip_h1_title": false,
   "title_cell": "Table of Contents",
   "title_sidebar": "Contents",
   "toc_cell": false,
   "toc_position": {},
   "toc_section_display": true,
   "toc_window_display": false
  }
 },
 "nbformat": 4,
 "nbformat_minor": 2
}
