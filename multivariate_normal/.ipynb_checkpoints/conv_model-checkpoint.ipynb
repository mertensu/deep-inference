{
 "cells": [
  {
   "cell_type": "markdown",
   "metadata": {},
   "source": [
    "### 1D Convolutional Model"
   ]
  },
  {
   "cell_type": "code",
   "execution_count": 1,
   "metadata": {},
   "outputs": [
    {
     "name": "stderr",
     "output_type": "stream",
     "text": [
      "Using TensorFlow backend.\n"
     ]
    }
   ],
   "source": [
    "import numpy as np\n",
    "from keras import backend as K\n",
    "from keras import layers, Input\n",
    "from keras.models import Model"
   ]
  },
  {
   "cell_type": "code",
   "execution_count": 2,
   "metadata": {
    "collapsed": true
   },
   "outputs": [],
   "source": [
    "def create_model(n_params, \n",
    "                     channels, \n",
    "                     filters = [64,128,128],\n",
    "                     kernel_sizes = [3,3]):\n",
    "    \"\"\"Creates 1DConv model.\"\"\"\n",
    "    \n",
    "    inp = Input(shape=(None, channels))\n",
    "    x = inp\n",
    "    x = layers.Conv1D(filters[0], kernel_size=1, strides=1, activation='relu')(x)\n",
    "    \n",
    "    for f in filters[1:]:\n",
    "        x = layers.Conv1D(f, kernel_size=3, strides=2, activation='relu')(x)\n",
    "        #x = layers.BatchNormalization(axis=-1)(x)\n",
    "    \n",
    "    x = layers.GlobalAveragePooling1D()(x)\n",
    "    mean = layers.Dense(n_params)(x)\n",
    "    var = layers.Dense(n_params, activation='softplus')(x)\n",
    "    out = layers.Concatenate()([mean, var])\n",
    "    model = Model(inp, out)\n",
    "    return model"
   ]
  }
 ],
 "metadata": {
  "kernelspec": {
   "display_name": "Python 3",
   "language": "python",
   "name": "python3"
  },
  "language_info": {
   "codemirror_mode": {
    "name": "ipython",
    "version": 3
   },
   "file_extension": ".py",
   "mimetype": "text/x-python",
   "name": "python",
   "nbconvert_exporter": "python",
   "pygments_lexer": "ipython3",
   "version": "3.6.3"
  },
  "toc": {
   "base_numbering": 1,
   "nav_menu": {},
   "number_sections": true,
   "sideBar": true,
   "skip_h1_title": false,
   "title_cell": "Table of Contents",
   "title_sidebar": "Contents",
   "toc_cell": false,
   "toc_position": {},
   "toc_section_display": true,
   "toc_window_display": false
  }
 },
 "nbformat": 4,
 "nbformat_minor": 2
}
